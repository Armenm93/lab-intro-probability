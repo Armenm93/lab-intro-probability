{
 "cells": [
  {
   "cell_type": "markdown",
   "metadata": {},
   "source": [
    "# Lab | Intro to Probability"
   ]
  },
  {
   "cell_type": "markdown",
   "metadata": {},
   "source": [
    "**Objective**\n",
    "\n",
    "Welcome to this Intro to Probability lab, where we explore decision-making scenarios through the lens of probability and strategic analysis. In the business world, making informed decisions is crucial, especially when faced with uncertainties. This lab focuses on scenarios where probabilistic outcomes play a significant role in shaping strategies and outcomes. Students will engage in exercises that require assessing and choosing optimal paths based on data-driven insights. The goal is to enhance your skills by applying probability concepts to solve real-world problems."
   ]
  },
  {
   "cell_type": "markdown",
   "metadata": {},
   "source": [
    "**Challenge 1**"
   ]
  },
  {
   "cell_type": "markdown",
   "metadata": {},
   "source": [
    "#### Ironhack Airlines \n",
    "\n",
    "Often Airlines sell more tickets than they have seats available, this is called overbooking. Consider the following:\n",
    "- A plane has 450 seats. \n",
    "- Based on historical data we conclude that each individual passenger has a 3% chance of missing it's flight. \n",
    "\n",
    "If the Ironhack Airlines routinely sells 460 tickets, what is the chance that they have a seats for all passenger?"
   ]
  },
  {
   "cell_type": "code",
   "execution_count": null,
   "metadata": {},
   "outputs": [],
   "source": [
    "from scipy.stats import binom, geom, poisson, expon\n",
    "import scipy.stats as st\n",
    "import pandas as pd\n",
    "import seaborn as sns\n",
    "import matplotlib.pyplot as plt"
   ]
  },
  {
   "cell_type": "code",
   "execution_count": null,
   "metadata": {},
   "outputs": [],
   "source": [
    "# not directly related to question, just further explanation of what pmf and cdf are doing....\n",
    "\n",
    "# lets say we are tossing 10 fair coins...\n",
    "# we'll define getting a heads as a success, which is a 50% or 0.5 chance\n",
    "# we can create the binomial distribution for this as follows:\n",
    "coin_tosses_10 = binom(10, 0.5)\n",
    "\n",
    "# we can use pmf (probability mass function) to see the chance of getting a certain number of heads\n",
    "print('Chance to get exactly zero heads in 10 tosses: ', coin_tosses_10.pmf(0))\n",
    "print('Chance to get exactly 10 heads in 10 tosses: ', coin_tosses_10.pmf(10))\n",
    "print('Chance to get exactly 5 heads in 10 tosses: ', coin_tosses_10.pmf(5))\n",
    "print('Chance to get exactly 3 heads in 10 tosses: ', coin_tosses_10.pmf(3))\n",
    "print('Chance to get exactly 7 heads in 10 tosses: ', coin_tosses_10.pmf(7))\n",
    "\n",
    "# we can use the cdf (cumulative density function) to see the chance of getting a certain number of heads or less...\n",
    "print()\n",
    "print('Chance to get zero heads or less in 10 tosses: ', coin_tosses_10.cdf(0))\n",
    "print('Chance to get 10 heads or less in 10 tosses: ', coin_tosses_10.cdf(10))\n",
    "print('Chance to get 5 heads or less in 10 tosses: ', coin_tosses_10.cdf(5))\n",
    "print('Chance to get 3 heads or less in 10 tosses: ', coin_tosses_10.cdf(3))\n",
    "print('Chance to get more than 3 heads 10 tosses: ', 1-coin_tosses_10.cdf(3))\n",
    "\n",
    "print('Note that ...cdf(3) + (1-cdf(3)) = 1:', coin_tosses_10.cdf(3) + (1-coin_tosses_10.cdf(3)))"
   ]
  },
  {
   "cell_type": "code",
   "execution_count": null,
   "metadata": {},
   "outputs": [],
   "source": [
    "# To answer the question we want to first reframe the question:\n",
    "# what we want to know is on average how likely it is that at least 10 people will\n",
    "# miss their flight, if less than 10 then they have overbooked, when 10 or more, they have enough seats\n",
    "# as they are selling 460 tickets for 450 seats...\n",
    "# ....and historically 3% or 0.03 is the chance of people missing the flight\n",
    "\n",
    "# we can create the binomial distribution like: binom(460, 0.03)\n",
    "# we could capture that then call pmf/cdf or directly call binom.pmf(value_to_check, no_of_events, chance_of_success)\n",
    "# chance_of_success here is actually chance of someone missing a flight...\n",
    "# then we can either sum up the probabilities for 0,1,2,3,4,5,6,7,8,9,10 people missing their flight using pmf\n",
    "\n",
    "c = 0\n",
    "for i in range(11):\n",
    "    c = c + binom.pmf(i, 460, 0.03)\n",
    "print('summing up the pmf values:', 1-c)\n",
    "\n",
    "# cdf\n",
    "print('directly calculating the cumlative probability: ', 1-binom.cdf(10,460,0.03))\n",
    "\n",
    "print('slightly different due to rounding errors, but essentially the same number')\n",
    "\n",
    "# we could also creat the distro then call the cdf function:\n",
    "binom_distro = binom(460, 0.03)\n",
    "1-binom_distro.cdf(10)\n",
    "\n",
    "# we subtract binom_distro.cdf(10) from 1 because we want to know if they have enough seats \n",
    "# what we actually calculated is how likely it is that they are overbooked"
   ]
  },
  {
   "cell_type": "code",
   "execution_count": null,
   "metadata": {},
   "outputs": [],
   "source": [
    "1-binom.cdf(10,460,0.03)"
   ]
  },
  {
   "cell_type": "markdown",
   "metadata": {},
   "source": [
    "**Challenge 2**"
   ]
  },
  {
   "cell_type": "markdown",
   "metadata": {},
   "source": [
    "#### Ironhack Call Center "
   ]
  },
  {
   "cell_type": "markdown",
   "metadata": {},
   "source": [
    "Suppose a customer service representative at a call center is handling customer complaints. Consider the following:\n",
    "- The probability of successfully resolving a customer complaint on the first attempt is 0.3. \n",
    "\n",
    "\n",
    "What is the probability that the representative needs to make at least three attempts before successfully resolving a customer complaint?"
   ]
  },
  {
   "cell_type": "code",
   "execution_count": 5,
   "metadata": {},
   "outputs": [],
   "source": [
    "# Note, the question is not saying what is the chance of sucess on the 4 call, but rather\n",
    "# what is the chance of 3 or less failures\n",
    "p = 0.3\n",
    "geom_dist = geom(p)\n",
    "1-geom_dist.cdf(3)"
   ]
  },
  {
   "cell_type": "code",
   "execution_count": null,
   "metadata": {},
   "outputs": [],
   "source": [
    "print('Chance of a success out of 0 attempts: ', geom_dist.cdf(0))\n",
    "print('Chance of a success out of 1 attempts - cdf: ', geom_dist.cdf(1))\n",
    "print('Chance of a success out of 1 attempts - pmf: ', geom_dist.pmf(1))\n",
    "print('Chance of a success out of 2 attempts or less: ', geom_dist.cdf(2))\n",
    "print('Chance of a success on exactly the 2nd attempt: ', geom_dist.pmf(2))\n",
    "print('Chance of a success out of 3 attempts or less: ', geom_dist.cdf(3))\n",
    "print('Chance of a success on exactly the 3rd attempt: ', geom_dist.pmf(3))\n",
    "print('geom_dist.pmf(1)+geom_dist.pmf(2)+geom_dist.pmf(3)', geom_dist.pmf(1)+geom_dist.pmf(2)+geom_dist.pmf(3))\n",
    "\n",
    "print('as we calculated the chance of a success in 3 attempts, the chance of 3 failers is 1-that', 1-geom_dist.cdf(3))"
   ]
  },
  {
   "cell_type": "markdown",
   "metadata": {},
   "source": [
    "**Challenge 3**"
   ]
  },
  {
   "cell_type": "markdown",
   "metadata": {},
   "source": [
    "#### Ironhack Website"
   ]
  },
  {
   "cell_type": "markdown",
   "metadata": {},
   "source": [
    "Consider a scenario related to Ironhack website traffic. Where:\n",
    "- our website takes on average 500 visits per hour.\n",
    "- the website's server is designed to handle up to 550 vists per hour.\n",
    "\n",
    "\n",
    "What is the probability of the website server being overwhelmed?"
   ]
  },
  {
   "cell_type": "code",
   "execution_count": 6,
   "metadata": {},
   "outputs": [],
   "source": [
    "# here we want to utilize a poisson distribution...\n",
    "poisson_dist = poisson(500)\n",
    "1-poisson_dist.cdf(550) # minus 1 as we are calculating the probabilty of 550 or less..."
   ]
  },
  {
   "cell_type": "markdown",
   "metadata": {},
   "source": [
    "What is the probability of being overwhelmed at some point during a day? (consider 24hours)"
   ]
  },
  {
   "cell_type": "code",
   "execution_count": 7,
   "metadata": {},
   "outputs": [],
   "source": [
    "# we have the chance of failer from above, in 24 \"attempts\" what is chance of a single failure...\n",
    "# back to binom...\n",
    "binom_dist = binom(24,1-poisson_dist.cdf(550))\n",
    "binom_dist.cdf(0) # ...chance of zero failures....\n",
    "\n",
    "# note: in the really real world for most websites we'd expect a failure every day since\n",
    "# traffic is likely not at balanced rate through-out the day"
   ]
  },
  {
   "cell_type": "markdown",
   "metadata": {},
   "source": [
    "**Challenge 4**"
   ]
  },
  {
   "cell_type": "markdown",
   "metadata": {},
   "source": [
    "#### Ironhack Helpdesk"
   ]
  },
  {
   "cell_type": "markdown",
   "metadata": {},
   "source": [
    "Consider a scenario related to the time between arrivals of customers at a service desk.\n",
    "\n",
    "On average, a customers arrives every 10minutes.\n",
    "\n",
    "What is the probability that the next customer will arrive within the next 5 minutes?"
   ]
  },
  {
   "cell_type": "code",
   "execution_count": null,
   "metadata": {},
   "outputs": [],
   "source": [
    "from scipy.stats import expon\n",
    "\n",
    "#the parameter represents the rate of events occuring per unit of time\n",
    "lambda_value = 0.1\n",
    "\n",
    "lambda_inv = expon(scale = 1/lambda_value)\n",
    "\n",
    "lambda_inv.cdf(5)"
   ]
  },
  {
   "cell_type": "markdown",
   "metadata": {},
   "source": [
    "If there is no customer for 15minutes, employees can that a 5minutes break.\n",
    "\n",
    "What is the probability an employee taking a break?"
   ]
  },
  {
   "cell_type": "code",
   "execution_count": null,
   "metadata": {},
   "outputs": [],
   "source": [
    "1-lambda_inv.cdf(15)"
   ]
  },
  {
   "cell_type": "markdown",
   "metadata": {},
   "source": [
    "**Challenge 5**"
   ]
  },
  {
   "cell_type": "markdown",
   "metadata": {},
   "source": [
    "The weights of a certain species of birds follow a normal distribution with a mean weight of 150 grams and a standard deviation of 10 grams. \n",
    "\n",
    "- If we randomly select a bird, what is the probability that its weight is between 140 and 160 grams?"
   ]
  },
  {
   "cell_type": "code",
   "execution_count": null,
   "metadata": {},
   "outputs": [],
   "source": [
    "#code here\n",
    "from scipy.stats import norm\n",
    "\n",
    "mean = 150\n",
    "std = 10\n",
    "\n",
    "norm_dist = norm(loc = mean, scale = std)\n",
    "print(f\"The probability of a birds weight being between 140 and 160 grams is {norm_dist.cdf(160) - norm_dist.cdf(140)}\")\n",
    "\n",
    "print(\"Recall that on a normal/gaussian distribution that the chance of...\")\n",
    "print(\"...being between 1 standard deviation from the mean: 68%\")\n",
    "print(\"...being between 2 standard deviations from the mean: 95%\")\n",
    "print(\"...being between 3 standard deviations from the mean: 99.7%\")\n",
    "print(\"and we are essentially checking if they are within 1 standard deviation from the mean\")"
   ]
  },
  {
   "cell_type": "markdown",
   "metadata": {},
   "source": [
    "**Challenge 6**"
   ]
  },
  {
   "cell_type": "markdown",
   "metadata": {},
   "source": [
    "If the lifetime (in hours) of a certain electronic component follows an exponential distribution with a mean lifetime of 50 hours, what is the probability that the component fails within the first 30 hours?"
   ]
  },
  {
   "cell_type": "code",
   "execution_count": null,
   "metadata": {},
   "outputs": [],
   "source": [
    "from scipy.stats import expon\n",
    "\n",
    "#the parameter represents the rate of events occuring per unit of time\n",
    "lambda_value = 1/50\n",
    "\n",
    "lambda_inv = expon(scale = 1/lambda_value)\n",
    "\n",
    "lambda_inv.cdf(30)"
   ]
  }
 ],
 "metadata": {
  "kernelspec": {
   "display_name": "Python 3",
   "language": "python",
   "name": "python3"
  },
  "language_info": {
   "codemirror_mode": {
    "name": "ipython",
    "version": 3
   },
   "file_extension": ".py",
   "mimetype": "text/x-python",
   "name": "python",
   "nbconvert_exporter": "python",
   "pygments_lexer": "ipython3",
   "version": "3.10.9"
  }
 },
 "nbformat": 4,
 "nbformat_minor": 2
}
